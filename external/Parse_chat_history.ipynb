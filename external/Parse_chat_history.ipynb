{
 "cells": [
  {
   "cell_type": "code",
   "execution_count": 1,
   "metadata": {},
   "outputs": [],
   "source": [
    "import pickle\n",
    "import pandas as pd"
   ]
  },
  {
   "cell_type": "code",
   "execution_count": 2,
   "metadata": {},
   "outputs": [],
   "source": [
    "chat_df = pickle.load(open(\"chat_history\\chat.pickle\", \"rb\"))"
   ]
  },
  {
   "cell_type": "code",
   "execution_count": 3,
   "metadata": {},
   "outputs": [
    {
     "data": {
      "text/plain": [
       "{19492291,\n",
       " 22381381,\n",
       " 179007104,\n",
       " 188533876,\n",
       " 221859240,\n",
       " 234706017,\n",
       " 275079864,\n",
       " 320669384,\n",
       " 322472465}"
      ]
     },
     "execution_count": 3,
     "metadata": {},
     "output_type": "execute_result"
    }
   ],
   "source": [
    "set(chat_df.from_id.values)"
   ]
  },
  {
   "cell_type": "code",
   "execution_count": 4,
   "metadata": {},
   "outputs": [],
   "source": [
    "mapId2Name = {275079864: \"Борз\",\n",
    " 221859240: \"Жак\",\n",
    " 322472465: \"Игорь\",\n",
    " 188533876: \"Антоха\",\n",
    " 179007104: \"Марти\",\n",
    " 19492291: \"Степан\",\n",
    " 22381381: \"Евгин\",\n",
    " 234706017: \"Паша\",\n",
    " 320669384: \"Славка\"\n",
    "}"
   ]
  },
  {
   "cell_type": "code",
   "execution_count": 5,
   "metadata": {},
   "outputs": [
    {
     "data": {
      "text/html": [
       "<div>\n",
       "<style scoped>\n",
       "    .dataframe tbody tr th:only-of-type {\n",
       "        vertical-align: middle;\n",
       "    }\n",
       "\n",
       "    .dataframe tbody tr th {\n",
       "        vertical-align: top;\n",
       "    }\n",
       "\n",
       "    .dataframe thead th {\n",
       "        text-align: right;\n",
       "    }\n",
       "</style>\n",
       "<table border=\"1\" class=\"dataframe\">\n",
       "  <thead>\n",
       "    <tr style=\"text-align: right;\">\n",
       "      <th></th>\n",
       "      <th>from_id</th>\n",
       "      <th>text</th>\n",
       "    </tr>\n",
       "  </thead>\n",
       "  <tbody>\n",
       "    <tr>\n",
       "      <td>26680</td>\n",
       "      <td>275079864</td>\n",
       "      <td>Сделал беседу нашей комнаты</td>\n",
       "    </tr>\n",
       "    <tr>\n",
       "      <td>26679</td>\n",
       "      <td>275079864</td>\n",
       "      <td>Вы там гречку доели?</td>\n",
       "    </tr>\n",
       "    <tr>\n",
       "      <td>26678</td>\n",
       "      <td>19492291</td>\n",
       "      <td>угу</td>\n",
       "    </tr>\n",
       "    <tr>\n",
       "      <td>26677</td>\n",
       "      <td>221859240</td>\n",
       "      <td>Я домой еду с сестрой</td>\n",
       "    </tr>\n",
       "    <tr>\n",
       "      <td>26676</td>\n",
       "      <td>221859240</td>\n",
       "      <td>Можете чутка вещи убратт?</td>\n",
       "    </tr>\n",
       "    <tr>\n",
       "      <td>...</td>\n",
       "      <td>...</td>\n",
       "      <td>...</td>\n",
       "    </tr>\n",
       "    <tr>\n",
       "      <td>5</td>\n",
       "      <td>221859240</td>\n",
       "      <td>Проекты которые ты давно хотел сделать, но ник...</td>\n",
       "    </tr>\n",
       "    <tr>\n",
       "      <td>4</td>\n",
       "      <td>322472465</td>\n",
       "      <td>мне бы ноут починить сначала</td>\n",
       "    </tr>\n",
       "    <tr>\n",
       "      <td>3</td>\n",
       "      <td>322472465</td>\n",
       "      <td>чтобы стримить/записывать нужно чтобы ноут не ...</td>\n",
       "    </tr>\n",
       "    <tr>\n",
       "      <td>2</td>\n",
       "      <td>221859240</td>\n",
       "      <td>Так в чем проблема</td>\n",
       "    </tr>\n",
       "    <tr>\n",
       "      <td>0</td>\n",
       "      <td>275079864</td>\n",
       "      <td>привкольно, но я даже первую половину не могу ...</td>\n",
       "    </tr>\n",
       "  </tbody>\n",
       "</table>\n",
       "<p>19838 rows × 2 columns</p>\n",
       "</div>"
      ],
      "text/plain": [
       "         from_id                                               text\n",
       "26680  275079864                        Сделал беседу нашей комнаты\n",
       "26679  275079864                               Вы там гречку доели?\n",
       "26678   19492291                                                угу\n",
       "26677  221859240                              Я домой еду с сестрой\n",
       "26676  221859240                          Можете чутка вещи убратт?\n",
       "...          ...                                                ...\n",
       "5      221859240  Проекты которые ты давно хотел сделать, но ник...\n",
       "4      322472465                       мне бы ноут починить сначала\n",
       "3      322472465  чтобы стримить/записывать нужно чтобы ноут не ...\n",
       "2      221859240                                 Так в чем проблема\n",
       "0      275079864  привкольно, но я даже первую половину не могу ...\n",
       "\n",
       "[19838 rows x 2 columns]"
      ]
     },
     "execution_count": 5,
     "metadata": {},
     "output_type": "execute_result"
    }
   ],
   "source": [
    "chat_df[chat_df.text != \"\"].sort_index(ascending=False)[[\"from_id\", \"text\"]]"
   ]
  },
  {
   "cell_type": "code",
   "execution_count": 46,
   "metadata": {},
   "outputs": [],
   "source": [
    "prev_id = -1\n",
    "with open(\"chat_parsed.txt\", \"w\", encoding='utf-8') as text_file:\n",
    "    for index, rows in chat_df[chat_df.text != \"\"].sort_index(ascending=False)[[\"from_id\", \"text\"]].iterrows():\n",
    "        cur_id = rows.from_id\n",
    "        if cur_id != prev_id:\n",
    "            str2write = \" [EOM]\" + \" \\n\" +mapId2Name[cur_id] + \": \" + rows.text\n",
    "        else:\n",
    "            str2write =  \"\\n\" + rows.text\n",
    "        text_file.write(str2write)\n",
    "        prev_id = cur_id\n",
    "    "
   ]
  },
  {
   "cell_type": "markdown",
   "metadata": {},
   "source": [
    "## Parse only phrases with \"smb + Slavka\""
   ]
  },
  {
   "cell_type": "code",
   "execution_count": 7,
   "metadata": {},
   "outputs": [],
   "source": [
    "prev_id = -1\n",
    "prev_txt = \"\"\n",
    "cur_id = -1\n",
    "cur_txt = \"\"\n",
    "with open(\"chat_history\\chat_parsed_slavka_only.txt\", \"w\", encoding='utf-8') as text_file:\n",
    "    for index, rows in chat_df[chat_df.text != \"\"].sort_index(ascending=False)[[\"from_id\", \"text\"]].iterrows():\n",
    "        cur_id = rows.from_id\n",
    "        if cur_id != prev_id:\n",
    "            if mapId2Name[cur_id] == \"Славка\":\n",
    "                text_file.write(prev_txt)\n",
    "                prev_txt = \"\"\n",
    "                prev_id = cur_id\n",
    "                cur_txt = \" [EOM]\" + \" \\n\" +mapId2Name[cur_id] + \": \" + rows.text\n",
    "                text_file.write(cur_txt)\n",
    "                cur_txt = \"\"\n",
    "            else:\n",
    "                prev_id = cur_id\n",
    "                prev_txt = \" [EOM]\" + \" \\n\" +mapId2Name[cur_id] + \": \" + rows.text\n",
    "        else:\n",
    "            if mapId2Name[cur_id] == \"Славка\":\n",
    "                cur_txt =  \"\\n\" + rows.text\n",
    "                text_file.write(cur_txt)\n",
    "                cur_txt = \"\"\n",
    "            else:\n",
    "                prev_txt += \"\\n\" + rows.text"
   ]
  },
  {
   "cell_type": "code",
   "execution_count": null,
   "metadata": {},
   "outputs": [],
   "source": []
  }
 ],
 "metadata": {
  "kernelspec": {
   "display_name": "Python 3",
   "language": "python",
   "name": "python3"
  },
  "language_info": {
   "codemirror_mode": {
    "name": "ipython",
    "version": 3
   },
   "file_extension": ".py",
   "mimetype": "text/x-python",
   "name": "python",
   "nbconvert_exporter": "python",
   "pygments_lexer": "ipython3",
   "version": "3.7.4"
  }
 },
 "nbformat": 4,
 "nbformat_minor": 2
}
